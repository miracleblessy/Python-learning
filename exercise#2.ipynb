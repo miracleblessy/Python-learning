{
 "cells": [
  {
   "metadata": {
    "ExecuteTime": {
     "end_time": "2025-08-09T14:46:03.938424Z",
     "start_time": "2025-08-09T14:45:52.411821Z"
    }
   },
   "cell_type": "code",
   "source": [
    "a=int(input(\"Enter num1:\"))\n",
    "b=int(input(\"Enter num2:\"))\n",
    "print(\"Sum:\",a+b)\n",
    "print(\"Difference:\",a-b)\n",
    "print(\"Product:\",a*b)\n",
    "print(\"Integer Division:\",a//b)"
   ],
   "id": "61daa1d69a101f62",
   "outputs": [
    {
     "name": "stdout",
     "output_type": "stream",
     "text": [
      "Sum: 120\n",
      "Difference: 80\n",
      "Product: 2000\n",
      "Integer Division: 5\n"
     ]
    }
   ],
   "execution_count": 9
  },
  {
   "cell_type": "code",
   "id": "initial_id",
   "metadata": {
    "collapsed": true,
    "ExecuteTime": {
     "end_time": "2025-08-09T14:40:36.008322Z",
     "start_time": "2025-08-09T14:40:26.917854Z"
    }
   },
   "source": [
    "a=float(input(\"Enter a decimal number:\"))\n",
    "print(f'Output formatted to 3 decimal places:{a:.3f}')"
   ],
   "outputs": [
    {
     "name": "stdout",
     "output_type": "stream",
     "text": [
      "Output formatted to 3 decimal places:9.123\n"
     ]
    }
   ],
   "execution_count": 5
  },
  {
   "metadata": {
    "ExecuteTime": {
     "end_time": "2025-08-09T14:43:13.736298Z",
     "start_time": "2025-08-09T14:43:13.723039Z"
    }
   },
   "cell_type": "code",
   "source": [
    "str1=\"Chicken\"\n",
    "str2=\"Lollipop\"\n",
    "fav_word=str1+\" \"+str2\n",
    "print(fav_word)\n"
   ],
   "id": "90bc4f0ad2949fdc",
   "outputs": [
    {
     "name": "stdout",
     "output_type": "stream",
     "text": [
      "Chicken Lollipop\n"
     ]
    }
   ],
   "execution_count": 6
  },
  {
   "metadata": {
    "ExecuteTime": {
     "end_time": "2025-08-09T14:45:30.054121Z",
     "start_time": "2025-08-09T14:45:18.114721Z"
    }
   },
   "cell_type": "code",
   "source": [
    "a=input(\"Enter a string:\")\n",
    "print(\"Length of string:\",len(a))\n",
    "\n",
    "b=\"Choco\"\n",
    "print(\"Length of string:\",len(b))"
   ],
   "id": "c02fa0c2d5dca884",
   "outputs": [
    {
     "name": "stdout",
     "output_type": "stream",
     "text": [
      "Length of string: 8\n",
      "Length of string: 5\n"
     ]
    }
   ],
   "execution_count": 8
  },
  {
   "metadata": {
    "ExecuteTime": {
     "end_time": "2025-08-09T14:49:51.950382Z",
     "start_time": "2025-08-09T14:49:51.942538Z"
    }
   },
   "cell_type": "code",
   "source": [
    "my_string=\"123\"\n",
    "num=int(my_string)\n",
    "result=num+5\n",
    "print(\"Final result:\",result,\"\\tData type:\",type(result))"
   ],
   "id": "5ba490a4ec52a589",
   "outputs": [
    {
     "name": "stdout",
     "output_type": "stream",
     "text": [
      "Final result: 128 \tData type: <class 'int'>\n"
     ]
    }
   ],
   "execution_count": 12
  },
  {
   "metadata": {
    "ExecuteTime": {
     "end_time": "2025-08-09T14:53:36.760289Z",
     "start_time": "2025-08-09T14:53:36.748979Z"
    }
   },
   "cell_type": "code",
   "source": [
    "my_string=\"PythonProgramming\"\n",
    "sub_str=my_string[0:6]\n",
    "print(\"Sub String:\",sub_str)"
   ],
   "id": "a16333d98385b19d",
   "outputs": [
    {
     "name": "stdout",
     "output_type": "stream",
     "text": [
      "Sub String: Python\n"
     ]
    }
   ],
   "execution_count": 14
  },
  {
   "metadata": {
    "ExecuteTime": {
     "end_time": "2025-08-09T14:53:45.542762Z",
     "start_time": "2025-08-09T14:53:39.122193Z"
    }
   },
   "cell_type": "code",
   "source": [
    "my_string=input(\"Enter a string:\")\n",
    "rev=my_string[::-1]\n",
    "print(\"Reversed string:\",rev)"
   ],
   "id": "ccfcde82200fee44",
   "outputs": [
    {
     "name": "stdout",
     "output_type": "stream",
     "text": [
      "Reversed string: olleh\n"
     ]
    }
   ],
   "execution_count": 15
  },
  {
   "metadata": {
    "ExecuteTime": {
     "end_time": "2025-08-09T14:59:00.922756Z",
     "start_time": "2025-08-09T14:58:50.069469Z"
    }
   },
   "cell_type": "code",
   "source": [
    "my_string=input(\"Enter a string:\")\n",
    "low=my_string.lower()\n",
    "up=my_string.upper()\n",
    "print(\"Lower case:\",low,\"\\nUpper case:\",up)"
   ],
   "id": "9741ab57528f5587",
   "outputs": [
    {
     "name": "stdout",
     "output_type": "stream",
     "text": [
      "Lower case: chocolate \n",
      "Upper case: CHOCOLATE\n"
     ]
    }
   ],
   "execution_count": 20
  },
  {
   "metadata": {
    "ExecuteTime": {
     "end_time": "2025-08-09T15:08:21.603019Z",
     "start_time": "2025-08-09T15:08:15.634941Z"
    }
   },
   "cell_type": "code",
   "source": [
    "a=int(input(\"Enter a number:\"))\n",
    "string_a=str(a)\n",
    "print(string_a+\"-string\")"
   ],
   "id": "3a594a786dcf8254",
   "outputs": [
    {
     "name": "stdout",
     "output_type": "stream",
     "text": [
      "54321-string\n"
     ]
    }
   ],
   "execution_count": 1
  },
  {
   "metadata": {
    "ExecuteTime": {
     "end_time": "2025-08-09T15:12:57.865645Z",
     "start_time": "2025-08-09T15:12:36.716073Z"
    }
   },
   "cell_type": "code",
   "source": [
    "main_str=input(\"Enter main string:\")\n",
    "sub_str=input(\"Enter sub string:\")\n",
    "if sub_str in main_str:\n",
    "    print(\"Sub string found\")\n",
    "else:\n",
    "    print(\"Sub string not found\")"
   ],
   "id": "a3aedf1e4a2466d1",
   "outputs": [
    {
     "name": "stdout",
     "output_type": "stream",
     "text": [
      "Sub string found\n"
     ]
    }
   ],
   "execution_count": 2
  },
  {
   "metadata": {
    "ExecuteTime": {
     "end_time": "2025-08-09T15:14:43.964856Z",
     "start_time": "2025-08-09T15:14:43.943736Z"
    }
   },
   "cell_type": "code",
   "source": [
    "#Problem given in Class dated 9/AUG/2025\n",
    "str1=\"artificial intelligence\"\n",
    "str2=\"road less  traveled\"\n",
    "str3=\"frequently asked questions\"\n",
    "word_list1=str1.split()\n",
    "word_list2=str2.split()\n",
    "word_list3=str3.split()\n",
    "word1=(\"\")\n",
    "word2=(\"\")\n",
    "word3=(\"\")\n",
    "for word in word_list1:\n",
    "    word1+=word[0]\n",
    "for word in word_list2:\n",
    "    word2+=word[0]\n",
    "for word in word_list3:\n",
    "    word3+=word[0]\n",
    "print(word1.upper())\n",
    "print(word2.upper())\n",
    "print(word3.upper())\n",
    "\n"
   ],
   "id": "2289f26e421daf91",
   "outputs": [
    {
     "name": "stdout",
     "output_type": "stream",
     "text": [
      "AI\n",
      "RLT\n",
      "FAQ\n"
     ]
    }
   ],
   "execution_count": 3
  }
 ],
 "metadata": {
  "kernelspec": {
   "display_name": "Python 3",
   "language": "python",
   "name": "python3"
  },
  "language_info": {
   "codemirror_mode": {
    "name": "ipython",
    "version": 2
   },
   "file_extension": ".py",
   "mimetype": "text/x-python",
   "name": "python",
   "nbconvert_exporter": "python",
   "pygments_lexer": "ipython2",
   "version": "2.7.6"
  }
 },
 "nbformat": 4,
 "nbformat_minor": 5
}
