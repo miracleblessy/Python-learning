{
 "cells": [
  {
   "metadata": {
    "ExecuteTime": {
     "end_time": "2025-08-23T14:24:48.147549Z",
     "start_time": "2025-08-23T14:24:48.133242Z"
    }
   },
   "cell_type": "code",
   "source": [
    "def calculate_area_perimeter(length, width):\n",
    "    area = length * width\n",
    "    perimeter = 2 * (length + width)\n",
    "    return area,perimeter\n",
    "area, perimeter = calculate_area_perimeter(5, 10)\n",
    "print(f\"Area: {area}, Perimeter: {perimeter}\")\n",
    "\n",
    "area2, perimeter2 = calculate_area_perimeter(7, 7)\n",
    "print(f\"Area: {area2}, Perimeter: {perimeter2}\")"
   ],
   "id": "463a1c2e09e7423a",
   "outputs": [
    {
     "name": "stdout",
     "output_type": "stream",
     "text": [
      "Area: 50, Perimeter: 30\n",
      "Area: 49, Perimeter: 28\n"
     ]
    }
   ],
   "execution_count": 2
  },
  {
   "metadata": {
    "ExecuteTime": {
     "end_time": "2025-08-23T14:54:33.132468Z",
     "start_time": "2025-08-23T14:54:33.115211Z"
    }
   },
   "cell_type": "code",
   "source": [
    "def greet(name, greeting=\"Hello\"):\n",
    "    print(f\"{greeting}, {name}!\")\n",
    "    print(f\"Company: {company_name}\")\n",
    "\n",
    "company_name = \"TechSolutions\"\n",
    "greet(\"Alice\")\n",
    "greet(\"Bob\",\"Welcome\")"
   ],
   "id": "8b4d75a3771fdd74",
   "outputs": [
    {
     "name": "stdout",
     "output_type": "stream",
     "text": [
      "Hello, Alice!\n",
      "Company: TechSolutions\n",
      "Welcome, Bob!\n",
      "Company: TechSolutions\n"
     ]
    }
   ],
   "execution_count": 5
  },
  {
   "metadata": {
    "ExecuteTime": {
     "end_time": "2025-08-23T14:57:30.564030Z",
     "start_time": "2025-08-23T14:57:25.174678Z"
    }
   },
   "cell_type": "code",
   "source": [
    "import datetime\n",
    "birth_year = input(\"Enter your birth year (YYYY): \")\n",
    "if birth_year.isdigit():\n",
    "    birth_year = int(birth_year)\n",
    "    current_year = datetime.datetime.now().year\n",
    "    age = current_year - birth_year\n",
    "    print(f\"Your current age is: {age}\")\n",
    "else:\n",
    "    print(\"Invalid input. Please enter a valid year (e.g., 1990).\")"
   ],
   "id": "8425827d3339aacf",
   "outputs": [
    {
     "name": "stdout",
     "output_type": "stream",
     "text": [
      "Your current age is: 19\n"
     ]
    }
   ],
   "execution_count": 6
  },
  {
   "metadata": {},
   "cell_type": "code",
   "outputs": [],
   "execution_count": null,
   "source": [
    "#my_utils.py\n",
    "def is_prime(n):\n",
    "    if n < 2:\n",
    "        return False\n",
    "    for i in range(2, int(n**0.5)+1):\n",
    "        if n % i == 0:\n",
    "            return False\n",
    "    return True\n",
    "\n",
    "def factorial(n):\n",
    "    result = 1\n",
    "    for i in range(2, n+1):\n",
    "        result *= i\n",
    "    return result"
   ],
   "id": "5db43e8cb6abc558"
  },
  {
   "metadata": {
    "ExecuteTime": {
     "end_time": "2025-08-23T15:04:16.180170Z",
     "start_time": "2025-08-23T15:04:16.146020Z"
    }
   },
   "cell_type": "code",
   "outputs": [
    {
     "name": "stdout",
     "output_type": "stream",
     "text": [
      "True\n",
      "120\n"
     ]
    }
   ],
   "execution_count": 7,
   "source": [
    "import my_utils\n",
    "\n",
    "print(my_utils.is_prime(7))     # True\n",
    "print(my_utils.factorial(5))    # 120"
   ],
   "id": "4e783ea047c932c8"
  },
  {
   "metadata": {
    "ExecuteTime": {
     "end_time": "2025-08-23T15:11:29.221768Z",
     "start_time": "2025-08-23T15:11:29.197790Z"
    }
   },
   "cell_type": "code",
   "source": [
    "import random\n",
    "game_scores = []\n",
    "def add_random_score(num_scores):\n",
    "    for num  in range(num_scores):\n",
    "        score = random.randint(50, 100)\n",
    "        game_scores.append(score)\n",
    "\n",
    "add_random_score(5)\n",
    "print(game_scores)"
   ],
   "id": "6a31a2f5ea81f44e",
   "outputs": [
    {
     "name": "stdout",
     "output_type": "stream",
     "text": [
      "[54, 58, 79, 77, 61]\n"
     ]
    }
   ],
   "execution_count": 8
  },
  {
   "metadata": {
    "ExecuteTime": {
     "end_time": "2025-08-23T15:15:45.302719Z",
     "start_time": "2025-08-23T15:15:45.251878Z"
    }
   },
   "cell_type": "code",
   "source": [
    "def display_product_info(name, price, quantity):\n",
    "    total_cost = price * quantity\n",
    "    print(f\"Product: {name}, Quantity: {quantity}, Total Cost: {total_cost}\")\n",
    "\n",
    "display_product_info(name=\"Laptop\", price=80000, quantity=2)\n",
    "display_product_info(quantity=5, name=\"Mouse\", price=500)"
   ],
   "id": "2b6117a0506ff1fd",
   "outputs": [
    {
     "name": "stdout",
     "output_type": "stream",
     "text": [
      "Product: Laptop, Quantity: 2, Total Cost: 160000\n",
      "Product: Mouse, Quantity: 5, Total Cost: 2500\n"
     ]
    }
   ],
   "execution_count": 9
  },
  {
   "metadata": {
    "ExecuteTime": {
     "end_time": "2025-08-23T15:21:48.937303Z",
     "start_time": "2025-08-23T15:21:48.922020Z"
    }
   },
   "cell_type": "code",
   "source": [
    "student_grades = []\n",
    "def add_grades(*grades):\n",
    "    student_grades\n",
    "    for grade in grades:\n",
    "        student_grades.append(grade)\n",
    "\n",
    "add_grades(85, 90, 78)\n",
    "add_grades(92, 88)\n",
    "print(student_grades)  # [85, 90, 78, 92, 88]"
   ],
   "id": "3dd043615d6d35b6",
   "outputs": [
    {
     "name": "stdout",
     "output_type": "stream",
     "text": [
      "[85, 90, 78, 92, 88]\n"
     ]
    }
   ],
   "execution_count": 10
  },
  {
   "metadata": {
    "ExecuteTime": {
     "end_time": "2025-08-23T15:24:38.948084Z",
     "start_time": "2025-08-23T15:24:38.918376Z"
    }
   },
   "cell_type": "code",
   "source": [
    "from math import sqrt, pi\n",
    "def calculate_circle_properties(radius):\n",
    "    area = pi * radius ** 2\n",
    "    diagonal = 2 * radius * sqrt(2)\n",
    "    return area, diagonal\n",
    "\n",
    "area, diagonal = calculate_circle_properties(5)\n",
    "print(f\"Circle Area: {area:.2f}, Inscribed Square Diagonal: {diagonal:.2f}\")"
   ],
   "id": "f4a47fbe4717dcec",
   "outputs": [
    {
     "name": "stdout",
     "output_type": "stream",
     "text": [
      "Circle Area: 78.54, Inscribed Square Diagonal: 14.14\n"
     ]
    }
   ],
   "execution_count": 11
  },
  {
   "metadata": {
    "ExecuteTime": {
     "end_time": "2025-08-23T15:28:06.305239Z",
     "start_time": "2025-08-23T15:28:06.280620Z"
    }
   },
   "cell_type": "code",
   "source": [
    "total_count = 0\n",
    "def increment_counter(value):\n",
    "    global total_count\n",
    "    local_sum = 0\n",
    "    local_sum += value\n",
    "    total_count += value\n",
    "    print(f\"Inside function - local_sum: {local_sum}\")\n",
    "\n",
    "increment_counter(5)\n",
    "print(f\"Global total_count: {total_count}\")"
   ],
   "id": "29ad3b29bb9ff35",
   "outputs": [
    {
     "name": "stdout",
     "output_type": "stream",
     "text": [
      "Inside function - local_sum: 5\n",
      "Global total_count: 5\n"
     ]
    }
   ],
   "execution_count": 14
  }
 ],
 "metadata": {
  "kernelspec": {
   "display_name": "Python 3",
   "language": "python",
   "name": "python3"
  },
  "language_info": {
   "codemirror_mode": {
    "name": "ipython",
    "version": 2
   },
   "file_extension": ".py",
   "mimetype": "text/x-python",
   "name": "python",
   "nbconvert_exporter": "python",
   "pygments_lexer": "ipython2",
   "version": "2.7.6"
  }
 },
 "nbformat": 4,
 "nbformat_minor": 5
}
