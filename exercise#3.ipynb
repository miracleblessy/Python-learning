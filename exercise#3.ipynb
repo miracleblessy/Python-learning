{
 "cells": [
  {
   "cell_type": "code",
   "id": "initial_id",
   "metadata": {
    "collapsed": true,
    "ExecuteTime": {
     "end_time": "2025-08-10T14:23:43.342351Z",
     "start_time": "2025-08-10T14:23:33.561083Z"
    }
   },
   "source": [
    "string1=input(\"Enter string:\")\n",
    "vowels=\"aeiouAEIOU\"\n",
    "count=0\n",
    "for char in string:\n",
    "    if char in vowels:\n",
    "        count+=1\n",
    "print(\"Number of vowels:\",count)"
   ],
   "outputs": [
    {
     "name": "stdout",
     "output_type": "stream",
     "text": [
      "Number of vowels: 3\n"
     ]
    }
   ],
   "execution_count": 1
  },
  {
   "metadata": {
    "ExecuteTime": {
     "end_time": "2025-08-10T14:31:55.383260Z",
     "start_time": "2025-08-10T14:31:41.861691Z"
    }
   },
   "cell_type": "code",
   "source": [
    "string1=input(\"Enter string:\")\n",
    "string1=string1.lower()\n",
    "reverse1=string1[::-1]\n",
    "\n",
    "if reverse1==string1:\n",
    "    print(\"It is a palindrome\")\n",
    "else:\n",
    "    print(\"It is not a palindrome\")"
   ],
   "id": "9b97f70c503ccb89",
   "outputs": [
    {
     "name": "stdout",
     "output_type": "stream",
     "text": [
      "It is a palindrome\n"
     ]
    }
   ],
   "execution_count": 6
  },
  {
   "metadata": {
    "ExecuteTime": {
     "end_time": "2025-08-10T14:37:08.713810Z",
     "start_time": "2025-08-10T14:36:34.131154Z"
    }
   },
   "cell_type": "code",
   "source": [
    "sentence=input(\"Enter sentence:\")\n",
    "words=sentence.split(\" \")\n",
    "count=len(words)\n",
    "print(\"Number of words:\",count)"
   ],
   "id": "eff5e2caf997a8b1",
   "outputs": [
    {
     "name": "stdout",
     "output_type": "stream",
     "text": [
      "Number of words: 8\n"
     ]
    }
   ],
   "execution_count": 7
  },
  {
   "metadata": {
    "ExecuteTime": {
     "end_time": "2025-08-10T14:42:11.991742Z",
     "start_time": "2025-08-10T14:41:37.284374Z"
    }
   },
   "cell_type": "code",
   "source": [
    "sentence=input(\"Enter sentence:\")\n",
    "old_word=input(\"Enter word to remove:\")\n",
    "new_word=input(\"Enter word to replace:\")\n",
    "sentence=sentence.replace(old_word,new_word)\n",
    "print(\" Modified Sentence:\",sentence)"
   ],
   "id": "4826e0543e182c8c",
   "outputs": [
    {
     "name": "stdout",
     "output_type": "stream",
     "text": [
      " Modified Sentence: I LIKE NOODLES\n"
     ]
    }
   ],
   "execution_count": 8
  },
  {
   "metadata": {
    "ExecuteTime": {
     "end_time": "2025-08-10T14:47:03.168988Z",
     "start_time": "2025-08-10T14:46:42.025917Z"
    }
   },
   "cell_type": "code",
   "source": [
    "str2=input(\"Enter comma separated sentence:\")\n",
    "words=str2.split(\",\")\n",
    "for word in words:\n",
    "    print(word)"
   ],
   "id": "ab202b07fe584329",
   "outputs": [
    {
     "name": "stdout",
     "output_type": "stream",
     "text": [
      "apple\n",
      "banana\n",
      "orange\n",
      "grape\n"
     ]
    }
   ],
   "execution_count": 9
  },
  {
   "metadata": {
    "ExecuteTime": {
     "end_time": "2025-08-10T14:54:33.656371Z",
     "start_time": "2025-08-10T14:54:12.015055Z"
    }
   },
   "cell_type": "code",
   "source": [
    "sentence=input(\"Enter sentence:\")\n",
    "swap_sentence=\"\"\n",
    "for ch in sentence:\n",
    "    if ch.islower():\n",
    "        swap_sentence+=ch.upper()\n",
    "    elif ch.isupper():\n",
    "        swap_sentence+=ch.lower()\n",
    "    else:\n",
    "        swap_sentence+=ch\n",
    "print(\"Swapped Sentence:\",swap_sentence)"
   ],
   "id": "a6b7f04205da8bf0",
   "outputs": [
    {
     "name": "stdout",
     "output_type": "stream",
     "text": [
      "Swapped Sentence: i aM lEARNING pYTHON\n"
     ]
    }
   ],
   "execution_count": 10
  },
  {
   "metadata": {
    "ExecuteTime": {
     "end_time": "2025-08-10T14:57:23.903415Z",
     "start_time": "2025-08-10T14:57:08.412197Z"
    }
   },
   "cell_type": "code",
   "source": [
    "sentence=input(\"Enter sentence:\")\n",
    "title_case=sentence.title()\n",
    "print(\"Title case Sentence:\",title_case)"
   ],
   "id": "6300ab6e42969ec0",
   "outputs": [
    {
     "name": "stdout",
     "output_type": "stream",
     "text": [
      "Title case Sentence: Hi Everyone Nice To Meet You All\n"
     ]
    }
   ],
   "execution_count": 12
  },
  {
   "metadata": {
    "ExecuteTime": {
     "end_time": "2025-08-10T15:01:07.654699Z",
     "start_time": "2025-08-10T15:00:42.349383Z"
    }
   },
   "cell_type": "code",
   "source": [
    "info=input(\"Enter your name&age:\")\n",
    "word=info.split(\",\")\n",
    "name=word[0]\n",
    "age=word[1]\n",
    "print(f'Hello {name}!You are {age} years old.')"
   ],
   "id": "985bf4ac70724726",
   "outputs": [
    {
     "name": "stdout",
     "output_type": "stream",
     "text": [
      "Hello Mira!You are 23 years old.\n"
     ]
    }
   ],
   "execution_count": 13
  },
  {
   "metadata": {
    "ExecuteTime": {
     "end_time": "2025-08-10T15:11:10.511658Z",
     "start_time": "2025-08-10T15:10:53.376959Z"
    }
   },
   "cell_type": "code",
   "source": [
    "sentence=input(\"Enter sentence:\")\n",
    "words=sentence.split(\" \")\n",
    "words.reverse()\n",
    "reversed_sentence=\" \".join(words)\n",
    "print(\"Reversed Sentence:\",reversed_sentence)"
   ],
   "id": "96368ad140f21f93",
   "outputs": [
    {
     "name": "stdout",
     "output_type": "stream",
     "text": [
      "Reversed Sentence: you are how world Hello\n"
     ]
    }
   ],
   "execution_count": 19
  },
  {
   "metadata": {
    "ExecuteTime": {
     "end_time": "2025-08-10T15:23:50.795693Z",
     "start_time": "2025-08-10T15:23:36.689697Z"
    }
   },
   "cell_type": "code",
   "source": [
    "string1=input(\"Enter email id:\")\n",
    "at_pos=string1.find(\"@\")\n",
    "username=string1[:at_pos]\n",
    "domain=string1[at_pos:]\n",
    "if len(username)>2:\n",
    "    first_ch=username[0]\n",
    "    last_ch=username[-1]\n",
    "    middle_ch=username[1:-1]\n",
    "\n",
    "    for ch in middle_ch:\n",
    "        middle_ch=middle_ch.replace(ch,\"*\")\n",
    "    masked_username=first_ch+middle_ch+last_ch\n",
    "else:\n",
    "    masked_username=username[0]+\"*\"\n",
    "masked_email=masked_username+domain\n",
    "print(\"Masked Email:\",masked_email)"
   ],
   "id": "8cd5082dcd9671d1",
   "outputs": [
    {
     "name": "stdout",
     "output_type": "stream",
     "text": [
      "Masked Email: j*********3@example.com\n"
     ]
    }
   ],
   "execution_count": 24
  }
 ],
 "metadata": {
  "kernelspec": {
   "display_name": "Python 3",
   "language": "python",
   "name": "python3"
  },
  "language_info": {
   "codemirror_mode": {
    "name": "ipython",
    "version": 2
   },
   "file_extension": ".py",
   "mimetype": "text/x-python",
   "name": "python",
   "nbconvert_exporter": "python",
   "pygments_lexer": "ipython2",
   "version": "2.7.6"
  }
 },
 "nbformat": 4,
 "nbformat_minor": 5
}
