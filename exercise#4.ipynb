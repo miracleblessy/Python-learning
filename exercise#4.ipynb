{
 "cells": [
  {
   "metadata": {
    "ExecuteTime": {
     "end_time": "2025-08-16T17:52:28.833597Z",
     "start_time": "2025-08-16T17:52:28.816084Z"
    }
   },
   "cell_type": "code",
   "source": [
    "student_data = [\n",
    "    {\"name\": \"Alice\", \"grades\": [85, 90, 92]},\n",
    "    {\"name\": \"Bob\", \"grades\": [70, 75, 80, 65]},\n",
    "    {\"name\": \"Charlie\", \"grades\": [95, 98]}\n",
    "]\n",
    "average_grades={}\n",
    "for student in student_data:\n",
    "    avg=sum(student[\"grades\"]) / len(student[\"grades\"])\n",
    "    average_grades[student[\"name\"]] = avg\n",
    "print(average_grades)\n"
   ],
   "id": "4b9304befff821e9",
   "outputs": [
    {
     "name": "stdout",
     "output_type": "stream",
     "text": [
      "{'Alice': 89.0, 'Bob': 72.5, 'Charlie': 96.5}\n"
     ]
    }
   ],
   "execution_count": 33
  },
  {
   "metadata": {
    "ExecuteTime": {
     "end_time": "2025-08-16T15:36:54.242953Z",
     "start_time": "2025-08-16T15:36:54.228470Z"
    }
   },
   "cell_type": "code",
   "source": [
    "input_list = [1, 2, 3, 2, 1, 4, 5, 3, 6]\n",
    "unique= set(input_list)\n",
    "unique_list =list(unique)\n",
    "print(unique_list)"
   ],
   "id": "88dba569e022d072",
   "outputs": [
    {
     "name": "stdout",
     "output_type": "stream",
     "text": [
      "[1, 2, 3, 4, 5, 6]\n"
     ]
    }
   ],
   "execution_count": 17
  },
  {
   "metadata": {
    "ExecuteTime": {
     "end_time": "2025-08-16T15:53:44.887278Z",
     "start_time": "2025-08-16T15:53:44.860479Z"
    }
   },
   "cell_type": "code",
   "source": [
    "current_inventory = {\"apple\": 10, \"banana\": 5, \"orange\": 8}\n",
    "new_items = [(\"apple\", 3), (\"grape\", 7), (\"banana\", 2)]\n",
    "for item in new_items:\n",
    "    (fruitname, count) = item\n",
    "    current_inventory[fruitname] = current_inventory.get(fruitname, 0) + count\n",
    "print(current_inventory)\n"
   ],
   "id": "d48bc8e1ec708788",
   "outputs": [
    {
     "name": "stdout",
     "output_type": "stream",
     "text": [
      "{'apple': 13, 'banana': 7, 'orange': 8, 'grape': 7}\n"
     ]
    }
   ],
   "execution_count": 19
  },
  {
   "metadata": {
    "ExecuteTime": {
     "end_time": "2025-08-16T17:09:38.501019Z",
     "start_time": "2025-08-16T17:09:38.483395Z"
    }
   },
   "cell_type": "code",
   "source": [
    "user_inputs = [\"John,30\", \"Alice,25\", \"Bob,abc\", \"Charlie,40\"]\n",
    "valid_data = []\n",
    "for entry in user_inputs:\n",
    "    parts = entry.split(\",\")\n",
    "    if len(parts) == 2 and parts[1].isdigit():\n",
    "        name = parts[0]\n",
    "        age = int(parts[1])\n",
    "        valid_data.append((name, age))\n",
    "\n",
    "print(valid_data)"
   ],
   "id": "27181acff8e41b75",
   "outputs": [
    {
     "name": "stdout",
     "output_type": "stream",
     "text": [
      "[('John', 30), ('Alice', 25), ('Charlie', 40)]\n"
     ]
    }
   ],
   "execution_count": 20
  },
  {
   "metadata": {
    "ExecuteTime": {
     "end_time": "2025-08-16T17:28:16.731768Z",
     "start_time": "2025-08-16T17:28:16.721204Z"
    }
   },
   "cell_type": "code",
   "source": [
    "person_interests = {\n",
    "    \"Emily\": {\"reading\", \"hiking\", \"cooking\"},\n",
    "    \"David\": {\"hiking\", \"photography\", \"reading\"},\n",
    "    \"Sarah\": {\"cooking\", \"painting\", \"hiking\"}\n",
    "}\n",
    "interest_count = {}\n",
    "for interests in person_interests.values():\n",
    "    for interest in interests:\n",
    "        interest_count[interest] = interest_count.get(interest, 0) + 1\n",
    "common = set()\n",
    "for interest,count in interest_count.items():\n",
    "    if count >= 2:\n",
    "        common.add(interest)\n",
    "print(common)"
   ],
   "id": "667affa4a5f8014e",
   "outputs": [
    {
     "name": "stdout",
     "output_type": "stream",
     "text": [
      "{'hiking', 'reading', 'cooking'}\n"
     ]
    }
   ],
   "execution_count": 25
  },
  {
   "metadata": {
    "ExecuteTime": {
     "end_time": "2025-08-16T17:30:18.843610Z",
     "start_time": "2025-08-16T17:30:18.833057Z"
    }
   },
   "cell_type": "code",
   "source": [
    "students = [('Alice', 85), ('Bob', 92), ('Charlie', 78)]\n",
    "for name,mark in students:\n",
    "    print(f\"{name} : {mark}\")"
   ],
   "id": "d4cc81cd053558e6",
   "outputs": [
    {
     "name": "stdout",
     "output_type": "stream",
     "text": [
      "Alice : 85\n",
      "Bob : 92\n",
      "Charlie : 78\n"
     ]
    }
   ],
   "execution_count": 26
  },
  {
   "metadata": {
    "ExecuteTime": {
     "end_time": "2025-08-16T17:37:11.203055Z",
     "start_time": "2025-08-16T17:37:11.192130Z"
    }
   },
   "cell_type": "code",
   "source": [
    "attendance_records = [\n",
    "    {\"employee_id\": \"E001\", \"status\": \"present\"},\n",
    "    {\"employee_id\": \"E002\", \"status\": \"absent\"},\n",
    "    {\"employee_id\": \"E001\", \"status\": \"present\"},\n",
    "    {\"employee_id\": \"E003\", \"status\": \"present\"},\n",
    "    {\"employee_id\": \"E002\", \"status\": \"present\"},\n",
    "    {\"employee_id\": \"E001\", \"status\": \"absent\"}\n",
    "]\n",
    "summary={}\n",
    "for record in attendance_records:\n",
    "    emp_id = record[\"employee_id\"]\n",
    "    status = record[\"status\"]\n",
    "    if emp_id not in summary:\n",
    "        summary[emp_id] = {\"present\": 0, \"absent\": 0}\n",
    "        summary[emp_id][status]+=1\n",
    "print(summary)"
   ],
   "id": "9fbe2cfb905453b8",
   "outputs": [
    {
     "name": "stdout",
     "output_type": "stream",
     "text": [
      "{'E001': {'present': 1, 'absent': 0}, 'E002': {'present': 0, 'absent': 1}, 'E003': {'present': 1, 'absent': 0}}\n"
     ]
    }
   ],
   "execution_count": 28
  },
  {
   "metadata": {
    "ExecuteTime": {
     "end_time": "2025-08-16T17:42:39.662128Z",
     "start_time": "2025-08-16T17:42:39.650016Z"
    }
   },
   "cell_type": "code",
   "source": [
    "products = [\n",
    "{\"id\": 101, \"name\": \"Laptop\", \"category\": \"Electronics\"},\n",
    "{\"id\": 102, \"name\": \"Mouse\", \"category\": \"Electronics\"},\n",
    "{\"id\": 103, \"name\": \"T-Shirt\", \"category\": \"Apparel\"},\n",
    "{\"id\": 104, \"name\": \"Keyboard\", \"category\": \"Electronics\"},\n",
    "{\"id\": 105, \"name\": \"Jeans\", \"category\": \"Apparel\"}\n",
    "]\n",
    "category={}\n",
    "for product in products:\n",
    "    if product[\"category\"] in category:\n",
    "        category[product[\"category\"]].append(product[\"name\"])\n",
    "    else:\n",
    "        category[product[\"category\"]]=[product[\"name\"]]\n",
    "print(category)\n"
   ],
   "id": "85621db816196225",
   "outputs": [
    {
     "name": "stdout",
     "output_type": "stream",
     "text": [
      "{'Electronics': ['Laptop', 'Mouse', 'Keyboard'], 'Apparel': ['T-Shirt', 'Jeans']}\n"
     ]
    }
   ],
   "execution_count": 30
  },
  {
   "metadata": {
    "ExecuteTime": {
     "end_time": "2025-08-16T17:48:15.903912Z",
     "start_time": "2025-08-16T17:48:15.875363Z"
    }
   },
   "cell_type": "code",
   "source": [
    "available_items = [\"apple\", \"banana\", \"orange\", \"apple\"]\n",
    "shopping_list = [\"banana\", \"apple\"]\n",
    "available_set = set(available_items)\n",
    "shopping_set = set(shopping_list)\n",
    "result=shopping_set.issubset(available_set)\n",
    "print(result)\n",
    "\n",
    "available_items = [\"apple\", \"banana\"]\n",
    "shopping_list = [\"apple\", \"grape\"]\n",
    "available_set = set(available_items)\n",
    "shopping_set = set(shopping_list)\n",
    "result = shopping_set.issubset(available_set)\n",
    "print(result)\n"
   ],
   "id": "c0f6523b0eae3abc",
   "outputs": [
    {
     "name": "stdout",
     "output_type": "stream",
     "text": [
      "True\n",
      "False\n"
     ]
    }
   ],
   "execution_count": 31
  },
  {
   "metadata": {
    "ExecuteTime": {
     "end_time": "2025-08-16T17:52:12.327257Z",
     "start_time": "2025-08-16T17:52:12.306458Z"
    }
   },
   "cell_type": "code",
   "source": [
    "list_of_dicts = [{\"A\": 10, \"B\": 20}, {\"B\": 5, \"C\": 15}, {\"A\": 3, \"D\": 7}]\n",
    "merged_dict = {}\n",
    "for dict in list_of_dicts:\n",
    "    for key, val in dict.items():\n",
    "        merged_dict[key] = merged_dict.get(key, 0) + val\n",
    "print(merged_dict)"
   ],
   "id": "c03a897cdee37948",
   "outputs": [
    {
     "name": "stdout",
     "output_type": "stream",
     "text": [
      "{'A': 13, 'B': 25, 'C': 15, 'D': 7}\n"
     ]
    }
   ],
   "execution_count": 32
  }
 ],
 "metadata": {
  "kernelspec": {
   "display_name": "Python 3",
   "language": "python",
   "name": "python3"
  },
  "language_info": {
   "codemirror_mode": {
    "name": "ipython",
    "version": 2
   },
   "file_extension": ".py",
   "mimetype": "text/x-python",
   "name": "python",
   "nbconvert_exporter": "python",
   "pygments_lexer": "ipython2",
   "version": "2.7.6"
  }
 },
 "nbformat": 4,
 "nbformat_minor": 5
}
