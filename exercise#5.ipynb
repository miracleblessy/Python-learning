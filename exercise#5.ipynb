{
 "cells": [
  {
   "cell_type": "code",
   "id": "initial_id",
   "metadata": {
    "collapsed": true,
    "ExecuteTime": {
     "end_time": "2025-08-17T13:38:44.785259Z",
     "start_time": "2025-08-17T13:38:32.305701Z"
    }
   },
   "source": [
    "name=input(\"Enter your name: \")\n",
    "hour=int(input(\"Enter current hour(0-23):\"))\n",
    "if (hour>=0 and hour<12):\n",
    "    print(\"Good morning,\",name,\"!\")\n",
    "elif (hour>=12 and hour<17):\n",
    "    print(\"Good afternoon,\",name,\"!\")\n",
    "else:\n",
    "    print(\"Good evening,\",name,\"!\")\n"
   ],
   "outputs": [
    {
     "name": "stdout",
     "output_type": "stream",
     "text": [
      "Good evening, Charlie !\n"
     ]
    }
   ],
   "execution_count": 3
  },
  {
   "metadata": {
    "ExecuteTime": {
     "end_time": "2025-08-17T13:41:27.049716Z",
     "start_time": "2025-08-17T13:41:27.028983Z"
    }
   },
   "cell_type": "code",
   "source": [
    "sum=0\n",
    "for i in range(1,51):\n",
    "    if(i%2==0):\n",
    "        sum+=i\n",
    "print(\"The sum of even numbers from 1 to 50 is:\",sum)"
   ],
   "id": "c36d70c2009e8f15",
   "outputs": [
    {
     "name": "stdout",
     "output_type": "stream",
     "text": [
      "The sum of even numbers from 1 to 50 is: 650\n"
     ]
    }
   ],
   "execution_count": 6
  },
  {
   "metadata": {
    "ExecuteTime": {
     "end_time": "2025-08-17T13:43:25.664641Z",
     "start_time": "2025-08-17T13:43:25.641714Z"
    }
   },
   "cell_type": "code",
   "source": [
    "count=10\n",
    "while(count>=1):\n",
    "    print(count)\n",
    "    count-=1\n",
    "print(\"Liftoff!\")"
   ],
   "id": "181d2ec7138f7402",
   "outputs": [
    {
     "name": "stdout",
     "output_type": "stream",
     "text": [
      "10\n",
      "9\n",
      "8\n",
      "7\n",
      "6\n",
      "5\n",
      "4\n",
      "3\n",
      "2\n",
      "1\n",
      "Liftoff!\n"
     ]
    }
   ],
   "execution_count": 7
  },
  {
   "metadata": {
    "ExecuteTime": {
     "end_time": "2025-08-17T13:51:13.148060Z",
     "start_time": "2025-08-17T13:51:09.872080Z"
    }
   },
   "cell_type": "code",
   "source": [
    "while(True):\n",
    "    number=int(input(\"Enter a number: \"))\n",
    "    if(number>0):\n",
    "        print(\"You entered a positive number!\")\n",
    "        break\n",
    "    else:\n",
    "        print(\"Please try again\")\n"
   ],
   "id": "ddba471328c01142",
   "outputs": [
    {
     "name": "stdout",
     "output_type": "stream",
     "text": [
      "You entered a positive number!\n"
     ]
    }
   ],
   "execution_count": 12
  },
  {
   "metadata": {
    "ExecuteTime": {
     "end_time": "2025-08-17T13:52:40.833583Z",
     "start_time": "2025-08-17T13:52:40.809042Z"
    }
   },
   "cell_type": "code",
   "source": [
    "for i in range(1,21):\n",
    "    if(i%3==0):\n",
    "        continue\n",
    "    print(i)"
   ],
   "id": "a26523154412c7ab",
   "outputs": [
    {
     "name": "stdout",
     "output_type": "stream",
     "text": [
      "1\n",
      "2\n",
      "4\n",
      "5\n",
      "7\n",
      "8\n",
      "10\n",
      "11\n",
      "13\n",
      "14\n",
      "16\n",
      "17\n",
      "19\n",
      "20\n"
     ]
    }
   ],
   "execution_count": 13
  },
  {
   "metadata": {
    "ExecuteTime": {
     "end_time": "2025-08-17T14:53:59.780940Z",
     "start_time": "2025-08-17T14:53:55.951038Z"
    }
   },
   "cell_type": "code",
   "source": [
    "n = int(input(\"Enter an integer: \"))\n",
    "if n > 1:\n",
    "    for i in range(2, int(n**0.5) + 1):\n",
    "        if n % i == 0:\n",
    "            print(f\"{n} is not a prime number.\")\n",
    "            break\n",
    "    else:\n",
    "        print(f\"{n} is a prime number.\")\n",
    "else:\n",
    "    print(f\"{n} is not a prime number.\")"
   ],
   "id": "7272a398f8ae8542",
   "outputs": [
    {
     "name": "stdout",
     "output_type": "stream",
     "text": [
      "7 is a prime number.\n"
     ]
    }
   ],
   "execution_count": 16
  },
  {
   "metadata": {
    "ExecuteTime": {
     "end_time": "2025-08-17T14:59:32.575682Z",
     "start_time": "2025-08-17T14:59:29.110668Z"
    }
   },
   "cell_type": "code",
   "source": [
    "n = int(input(\"Enter a number: \"))\n",
    "f, s= 0, 1\n",
    "count = 0\n",
    "print(\"Fibonacci sequence:\", end=\" \")\n",
    "while count < n:\n",
    "    if (count<n-1):\n",
    "        print(f,end=\", \")\n",
    "    else:\n",
    "        print(f,end=\" \")\n",
    "    f, s = s, f+ s\n",
    "    count += 1"
   ],
   "id": "ec5a4a8479a2cff6",
   "outputs": [
    {
     "name": "stdout",
     "output_type": "stream",
     "text": [
      "Fibonacci sequence: 0, 1, 1, 2, 3, 5, 8 "
     ]
    }
   ],
   "execution_count": 20
  },
  {
   "metadata": {
    "ExecuteTime": {
     "end_time": "2025-08-17T15:01:08.182810Z",
     "start_time": "2025-08-17T15:01:00.945506Z"
    }
   },
   "cell_type": "code",
   "source": [
    "text = input(\"Enter a string: \")\n",
    "vowel_count = 0\n",
    "for char in text:\n",
    "    if char.lower() in 'aeiou':\n",
    "        vowel_count += 1\n",
    "    else:\n",
    "        pass\n",
    "print(f\"Number of vowels: {vowel_count}\")"
   ],
   "id": "8bce13262c104fd5",
   "outputs": [
    {
     "name": "stdout",
     "output_type": "stream",
     "text": [
      "Number of vowels: 1\n"
     ]
    }
   ],
   "execution_count": 21
  },
  {
   "metadata": {
    "ExecuteTime": {
     "end_time": "2025-08-17T15:07:57.712190Z",
     "start_time": "2025-08-17T15:06:42.649807Z"
    }
   },
   "cell_type": "code",
   "source": [
    "import random\n",
    "secret = random.randint(1, 100)\n",
    "attempts = 0\n",
    "print(\"I'm thinking of a number between 1 and 100.\")\n",
    "while True:\n",
    "    guess = int(input(\"Guess the number: \"))\n",
    "    attempts += 1\n",
    "    if guess < secret:\n",
    "        print(\"Too low!\")\n",
    "    elif guess > secret:\n",
    "        print(\"Too high!\")\n",
    "    else:\n",
    "        print(f\"Congratulations! You guessed the number in {attempts} attempts.\")\n",
    "        break"
   ],
   "id": "ac9884f1df53ffd4",
   "outputs": [
    {
     "name": "stdout",
     "output_type": "stream",
     "text": [
      "I'm thinking of a number between 1 and 100.\n",
      "Too low!\n",
      "Too high!\n",
      "Too high!\n",
      "Too low!\n",
      "Too low!\n",
      "Too low!\n",
      "Too high!\n",
      "Too high!\n",
      "Congratulations! You guessed the number in 9 attempts.\n"
     ]
    }
   ],
   "execution_count": 24
  },
  {
   "metadata": {
    "ExecuteTime": {
     "end_time": "2025-08-17T15:02:50.269046Z",
     "start_time": "2025-08-17T15:02:47.092401Z"
    }
   },
   "cell_type": "code",
   "source": [
    "rows = int(input(\"Enter the number of rows: \"))\n",
    "for i in range(1, rows + 1):\n",
    "    print(\"*\" * i)"
   ],
   "id": "4dfa148389da163a",
   "outputs": [
    {
     "name": "stdout",
     "output_type": "stream",
     "text": [
      "*\n",
      "**\n",
      "***\n",
      "****\n",
      "*****\n"
     ]
    }
   ],
   "execution_count": 22
  }
 ],
 "metadata": {
  "kernelspec": {
   "display_name": "Python 3",
   "language": "python",
   "name": "python3"
  },
  "language_info": {
   "codemirror_mode": {
    "name": "ipython",
    "version": 2
   },
   "file_extension": ".py",
   "mimetype": "text/x-python",
   "name": "python",
   "nbconvert_exporter": "python",
   "pygments_lexer": "ipython2",
   "version": "2.7.6"
  }
 },
 "nbformat": 4,
 "nbformat_minor": 5
}
