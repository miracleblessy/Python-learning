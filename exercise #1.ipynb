{
 "cells": [
  {
   "cell_type": "code",
   "id": "initial_id",
   "metadata": {
    "collapsed": true,
    "ExecuteTime": {
     "end_time": "2025-08-03T13:41:55.210484Z",
     "start_time": "2025-08-03T13:41:55.193122Z"
    }
   },
   "source": [
    "a=13\n",
    "b=12\n",
    "print(\"Addition:\",a+b)\n",
    "print(\"Subtraction:\",a-b)\n",
    "print(\"Multiplication:\",a*b)\n",
    "print(\" Float Division:\",a/b)\n",
    "print(\"Integer Division:\",a//b)\n",
    "print(\"Modulo:\",a%b)"
   ],
   "outputs": [
    {
     "name": "stdout",
     "output_type": "stream",
     "text": [
      "Addition: 25\n",
      "Subtraction: 1\n",
      "Multiplication: 156\n",
      " Float Division: 1.0833333333333333\n",
      "Integer Division: 1\n",
      "Modulo: 1\n"
     ]
    }
   ],
   "execution_count": 1
  },
  {
   "metadata": {
    "ExecuteTime": {
     "end_time": "2025-08-03T13:45:22.638042Z",
     "start_time": "2025-08-03T13:45:22.619167Z"
    }
   },
   "cell_type": "code",
   "source": [
    "a=3\n",
    "b=4\n",
    "k=12\n",
    "check=(k%a==0 and k%b==0)\n",
    "print(check)"
   ],
   "id": "853f8e6008a67eac",
   "outputs": [
    {
     "name": "stdout",
     "output_type": "stream",
     "text": [
      "True\n"
     ]
    }
   ],
   "execution_count": 2
  },
  {
   "metadata": {
    "ExecuteTime": {
     "end_time": "2025-08-03T13:46:55.568329Z",
     "start_time": "2025-08-03T13:46:55.554344Z"
    }
   },
   "cell_type": "code",
   "source": [
    "str1=\"happy\"\n",
    "str2=\"happie\"\n",
    "check=(str1==str2)\n",
    "print(check)"
   ],
   "id": "3de37ada52fe897e",
   "outputs": [
    {
     "name": "stdout",
     "output_type": "stream",
     "text": [
      "False\n"
     ]
    }
   ],
   "execution_count": 3
  },
  {
   "metadata": {
    "ExecuteTime": {
     "end_time": "2025-08-03T13:48:42.907944Z",
     "start_time": "2025-08-03T13:48:42.888748Z"
    }
   },
   "cell_type": "code",
   "source": [
    "a=23\n",
    "if (a%2==0):\n",
    "    print(a,\"is an even number\")\n",
    "else:\n",
    "    print(a,\"is an odd number\")"
   ],
   "id": "470f30e90f6c6b86",
   "outputs": [
    {
     "name": "stdout",
     "output_type": "stream",
     "text": [
      "23 is an odd number\n"
     ]
    }
   ],
   "execution_count": 4
  },
  {
   "metadata": {
    "ExecuteTime": {
     "end_time": "2025-08-03T13:52:02.518614Z",
     "start_time": "2025-08-03T13:52:02.506901Z"
    }
   },
   "cell_type": "code",
   "source": [
    "x=16\n",
    "y=24\n",
    "z=38\n",
    "check=(x>10 and y<20 and z==40 )\n",
    "print(check)"
   ],
   "id": "24a6c4115850bb05",
   "outputs": [
    {
     "name": "stdout",
     "output_type": "stream",
     "text": [
      "False\n"
     ]
    }
   ],
   "execution_count": 5
  },
  {
   "metadata": {
    "ExecuteTime": {
     "end_time": "2025-08-03T13:55:55.656257Z",
     "start_time": "2025-08-03T13:55:55.633366Z"
    }
   },
   "cell_type": "code",
   "source": [
    "var_count=5\n",
    "var_count+=3\n",
    "var_count*=2\n",
    "var_count-=1\n",
    "print(\"Final value of variable count:\",var_count)"
   ],
   "id": "711e6e7d107f6c73",
   "outputs": [
    {
     "name": "stdout",
     "output_type": "stream",
     "text": [
      "Final value of variable count: 15\n"
     ]
    }
   ],
   "execution_count": 6
  },
  {
   "metadata": {
    "ExecuteTime": {
     "end_time": "2025-08-03T13:57:15.424943Z",
     "start_time": "2025-08-03T13:57:15.403917Z"
    }
   },
   "cell_type": "code",
   "source": [
    "age=34\n",
    "check=(age<18 or age>60)\n",
    "print(check)"
   ],
   "id": "430f8263051dd139",
   "outputs": [
    {
     "name": "stdout",
     "output_type": "stream",
     "text": [
      "False\n"
     ]
    }
   ],
   "execution_count": 7
  },
  {
   "metadata": {
    "ExecuteTime": {
     "end_time": "2025-08-03T13:59:21.204146Z",
     "start_time": "2025-08-03T13:59:21.182374Z"
    }
   },
   "cell_type": "code",
   "source": [
    "price=10\n",
    "discount=0.8\n",
    "price*=discount\n",
    "print(\"Final price:\",price)\n"
   ],
   "id": "50c64c293f470322",
   "outputs": [
    {
     "name": "stdout",
     "output_type": "stream",
     "text": [
      "Final price: 8.0\n"
     ]
    }
   ],
   "execution_count": 8
  },
  {
   "metadata": {
    "ExecuteTime": {
     "end_time": "2025-08-03T14:00:48.549424Z",
     "start_time": "2025-08-03T14:00:48.536629Z"
    }
   },
   "cell_type": "code",
   "source": [
    "p=15\n",
    "q=8\n",
    "r=23\n",
    "check=(p<q and q<r)\n",
    "print(check)"
   ],
   "id": "8e7ddbc47f759000",
   "outputs": [
    {
     "name": "stdout",
     "output_type": "stream",
     "text": [
      "False\n"
     ]
    }
   ],
   "execution_count": 9
  },
  {
   "metadata": {
    "ExecuteTime": {
     "end_time": "2025-08-03T14:02:02.156451Z",
     "start_time": "2025-08-03T14:02:02.143667Z"
    }
   },
   "cell_type": "code",
   "source": [
    "a=27\n",
    "a%=5\n",
    "a+=10\n",
    "print(\"Final value:\",a)"
   ],
   "id": "df419c985c53e417",
   "outputs": [
    {
     "name": "stdout",
     "output_type": "stream",
     "text": [
      "Final value: 12\n"
     ]
    }
   ],
   "execution_count": 10
  }
 ],
 "metadata": {
  "kernelspec": {
   "display_name": "Python 3",
   "language": "python",
   "name": "python3"
  },
  "language_info": {
   "codemirror_mode": {
    "name": "ipython",
    "version": 2
   },
   "file_extension": ".py",
   "mimetype": "text/x-python",
   "name": "python",
   "nbconvert_exporter": "python",
   "pygments_lexer": "ipython2",
   "version": "2.7.6"
  }
 },
 "nbformat": 4,
 "nbformat_minor": 5
}
