{
 "cells": [
  {
   "cell_type": "code",
   "id": "initial_id",
   "metadata": {
    "collapsed": true,
    "ExecuteTime": {
     "end_time": "2025-08-30T17:47:25.640030Z",
     "start_time": "2025-08-30T17:47:25.621086Z"
    }
   },
   "source": [
    "def read_file_safe(filepath):\n",
    "    try:\n",
    "        with open(filepath, 'r') as file:\n",
    "            return file.read()\n",
    "    except FileNotFoundError:\n",
    "        print(\"Error: File not found\")\n",
    "        return \"\"\n",
    "#create dummy file\n",
    "with open(\"text.txt\", 'w') as file:\n",
    "    file.write(\"Hello World\")\n",
    "print(read_file_safe(\"text.txt\"))"
   ],
   "outputs": [
    {
     "name": "stdout",
     "output_type": "stream",
     "text": [
      "Hello World\n"
     ]
    }
   ],
   "execution_count": 21
  },
  {
   "metadata": {
    "ExecuteTime": {
     "end_time": "2025-08-30T17:47:21.744345Z",
     "start_time": "2025-08-30T17:47:21.718304Z"
    }
   },
   "cell_type": "code",
   "source": [
    "def write_to_log(log_message):\n",
    "    try:\n",
    "        with open(\"application.log\", \"a\") as log_file:\n",
    "            log_file.write(log_message + \"\\n\")\n",
    "    except Exception as e:\n",
    "        print(f\"Error writing to log: {e}\")\n",
    "\n",
    "write_to_log(\"Application started\")\n",
    "write_to_log(\"User logged in\\n\")\n",
    "print(\"Messages successfully written to 'application.log'\")"
   ],
   "id": "43c47dc11ee219a6",
   "outputs": [
    {
     "name": "stdout",
     "output_type": "stream",
     "text": [
      "Messages successfully written to 'application.log'\n"
     ]
    }
   ],
   "execution_count": 20
  },
  {
   "metadata": {
    "ExecuteTime": {
     "end_time": "2025-08-30T18:38:49.868989Z",
     "start_time": "2025-08-30T18:38:32.372067Z"
    }
   },
   "cell_type": "code",
   "source": [
    "filename = input(\"Enter filename: \")\n",
    "try:\n",
    "    with open(filename, 'r') as file:\n",
    "        print(file.readline().strip())\n",
    "except IOError:\n",
    "    print(\"Error: Could not read file.\")\n"
   ],
   "id": "dece5ca3ce238df8",
   "outputs": [
    {
     "name": "stdout",
     "output_type": "stream",
     "text": [
      "Hello World\n"
     ]
    }
   ],
   "execution_count": 3
  },
  {
   "metadata": {
    "ExecuteTime": {
     "end_time": "2025-08-30T18:50:02.184815Z",
     "start_time": "2025-08-30T18:50:02.163210Z"
    }
   },
   "cell_type": "code",
   "source": [
    "def count_lines(filepath):\n",
    "    try:\n",
    "        with open(filepath, 'r') as file:\n",
    "            lines = file.readlines()\n",
    "            return len(lines)\n",
    "    except FileNotFoundError:\n",
    "        print(f\"Error: File '{filepath}' not found.\")\n",
    "        return -1\n",
    "print(count_lines(\"sample.txt\"))\n",
    "print(count_lines(\"text.txt\"))\n"
   ],
   "id": "8fc8d69f4aa11d8f",
   "outputs": [
    {
     "name": "stdout",
     "output_type": "stream",
     "text": [
      "Error: File 'sample.txt' not found.\n",
      "-1\n",
      "3\n"
     ]
    }
   ],
   "execution_count": 10
  },
  {
   "metadata": {
    "ExecuteTime": {
     "end_time": "2025-08-30T18:45:50.036163Z",
     "start_time": "2025-08-30T18:45:33.493558Z"
    }
   },
   "cell_type": "code",
   "outputs": [
    {
     "name": "stdout",
     "output_type": "stream",
     "text": [
      "File 'text.txt' created and content written successfully\n"
     ]
    }
   ],
   "execution_count": 7,
   "source": [
    "filename = input(\"Enter new filename: \")\n",
    "content = input(\"Enter content: \")\n",
    "\n",
    "try:\n",
    "    with open(filename, 'w') as file:\n",
    "        file.write(content)\n",
    "    print(f\"File '{filename}' created and content written successfully\")\n",
    "except FileExistsError:\n",
    "    print(\"Error: File already exists. Please choose a different name\")\n"
   ],
   "id": "4d846f2e9adf4cd4"
  },
  {
   "metadata": {
    "ExecuteTime": {
     "end_time": "2025-08-30T19:05:02.322934Z",
     "start_time": "2025-08-30T19:05:02.298721Z"
    }
   },
   "cell_type": "code",
   "source": [
    "import csv\n",
    "def process_csv_data(filepath):\n",
    "    records = []\n",
    "    try:\n",
    "        with open(filepath, 'r', newline='') as file:\n",
    "            reader = csv.reader(file)\n",
    "            for line in reader:\n",
    "                if not line:\n",
    "                    continue\n",
    "                if len(line) < 2:\n",
    "                    print(f\"Malformed line: {','.join(line)}\")\n",
    "                    continue\n",
    "                records.append(line)\n",
    "    except FileNotFoundError:\n",
    "        print(f\"Error: File '{filepath}' not found.\")\n",
    "    except IOError:\n",
    "        print(f\"Error: Could not read file '{filepath}'.\")\n",
    "    return records\n",
    "\n",
    "result = process_csv_data(\"data.csv\")\n",
    "print(result)\n"
   ],
   "id": "ed34f8dc7f0ed533",
   "outputs": [
    {
     "name": "stdout",
     "output_type": "stream",
     "text": [
      "[['Name', 'Age', 'City'], ['Alice', '30', 'New York'], ['Bob', '25'], ['Charlie', '35', 'London', 'UK']]\n"
     ]
    }
   ],
   "execution_count": 13
  },
  {
   "metadata": {
    "ExecuteTime": {
     "end_time": "2025-08-31T06:24:58.318060Z",
     "start_time": "2025-08-31T06:24:58.298524Z"
    }
   },
   "cell_type": "code",
   "source": [
    "import sys\n",
    "sys.argv = ['archive.py', 'input.txt', 'output.arc']\n",
    "with open('input.txt', 'w') as f:\n",
    "    f.write(\"Hi I am Blessy\")\n",
    "try:\n",
    "    source = sys.argv[1]\n",
    "    destination = sys.argv[2]\n",
    "\n",
    "    # Try reading the source file\n",
    "    with open(source, 'r') as src:\n",
    "        data = src.read()\n",
    "\n",
    "    # Try writing to the destination file\n",
    "    with open(destination, 'w') as dest:\n",
    "        dest.write(\"ARCHIVE_START\\n\")\n",
    "        dest.write(data)\n",
    "        dest.write(\"\\nARCHIVE_END\\n\")\n",
    "\n",
    "    print(\"Archive created successfully.\")\n",
    "\n",
    "except FileNotFoundError:\n",
    "    print(f\"Error: Source file '{source}' not found.\")\n",
    "\n",
    "except PermissionError:\n",
    "    print(f\"Error: Permission denied while writing to '{destination}'.\")\n",
    "\n",
    "except OSError as e:\n",
    "    print(f\"OS Error: {e}\")\n"
   ],
   "id": "e493a8cb52ac43bb",
   "outputs": [
    {
     "name": "stdout",
     "output_type": "stream",
     "text": [
      "Archive created successfully.\n"
     ]
    }
   ],
   "execution_count": 2
  },
  {
   "metadata": {
    "ExecuteTime": {
     "end_time": "2025-08-31T06:31:11.216382Z",
     "start_time": "2025-08-31T06:31:11.198470Z"
    }
   },
   "cell_type": "code",
   "source": [
    "filenames = [\"file1.txt\", \"non_existent.txt\", \"file2.txt\", \"protected.txt\"]\n",
    "with open(\"file1.txt\", \"w\") as f:\n",
    "    f.write(\"Hello from file1\")\n",
    "with open(\"file2.txt\", \"w\") as f:\n",
    "    f.write(\"Hello from file2\")\n",
    "for filename in filenames:\n",
    "    try:\n",
    "        with open(filename, 'r') as f:\n",
    "            content= f.read()\n",
    "        print(f\"Processed: {filename}\")\n",
    "    except FileNotFoundError:\n",
    "        print(f\"Skipped: {filename} (Not found)\")\n",
    "    except IOError:\n",
    "        print(f\"Failed: {filename} (I/O Error)\")\n"
   ],
   "id": "d71fe88ec21396ed",
   "outputs": [
    {
     "name": "stdout",
     "output_type": "stream",
     "text": [
      "Processed: file1.txt\n",
      "Skipped: non_existent.txt (Not found)\n",
      "Processed: file2.txt\n",
      "Skipped: protected.txt (Not found)\n"
     ]
    }
   ],
   "execution_count": 4
  },
  {
   "metadata": {
    "ExecuteTime": {
     "end_time": "2025-08-31T06:41:48.581976Z",
     "start_time": "2025-08-31T06:41:48.533897Z"
    }
   },
   "cell_type": "code",
   "source": [
    "with open(\"short_story.txt\", \"w\") as f:\n",
    "    f.write(\"Once upon a time,\\n\")\n",
    "    f.write(\"in a land far, far away,\\n\")\n",
    "    f.write(\"lived a brave knight.\\n\")\n",
    "def safe_read_line(filepath, line_number):\n",
    "    try:\n",
    "        with open(filepath, 'r') as file:\n",
    "            lines = file.readlines()\n",
    "            if line_number < 1 or line_number > len(lines):\n",
    "                print(\"Error: Line number out of range.\")\n",
    "                return None\n",
    "            return lines[line_number - 1].rstrip('\\n')\n",
    "    except FileNotFoundError:\n",
    "        print(\"Error: File does not exist.\")\n",
    "        return None\n",
    "print(safe_read_line(\"short_story.txt\", 1))\n",
    "print(safe_read_line(\"short_story.txt\", 4))\n",
    "print(safe_read_line(\"non_existent_story.txt\", 1))\n"
   ],
   "id": "14d3c50734230a3c",
   "outputs": [
    {
     "name": "stdout",
     "output_type": "stream",
     "text": [
      "Once upon a time,\n",
      "Error: Line number out of range.\n",
      "None\n",
      "Error: File does not exist.\n",
      "None\n"
     ]
    }
   ],
   "execution_count": 5
  },
  {
   "metadata": {
    "ExecuteTime": {
     "end_time": "2025-08-31T06:58:19.684524Z",
     "start_time": "2025-08-31T06:58:19.666554Z"
    }
   },
   "cell_type": "code",
   "source": [
    "with open(\"config.ini\", \"w\") as f:\n",
    "    f.write(\"username=john_doe\\n\")\n",
    "    f.write(\"password=secret123\\n\")\n",
    "    f.write(\"host=localhost\\n\")\n",
    "    f.write(\"port=8080\\n\")\n",
    "    f.write(\"invalid_line_format\\n\")\n",
    "    f.write(\"database=my_db=extra\\n\")\n",
    "def validate_and_process_config(config_filepath):\n",
    "    config_data = {}\n",
    "    try:\n",
    "        with open(config_filepath, 'r') as file:\n",
    "            for line in file:\n",
    "                line = line.strip()\n",
    "                if not line:\n",
    "                    continue\n",
    "                if line.count('=') != 1:\n",
    "                    print(f\"Warning: Malformed config line: {line}\")\n",
    "                    continue\n",
    "\n",
    "                key, value = line.split('=')\n",
    "                config_data[key.strip()] = value.strip()\n",
    "\n",
    "    except FileNotFoundError:\n",
    "        print(\"Error: File does not exist.\")\n",
    "    except IOError:\n",
    "        print(\"Error: An I/O error occurred while reading the file.\")\n",
    "\n",
    "    return config_data\n",
    "result = validate_and_process_config(\"config.ini\")\n",
    "print(result)\n"
   ],
   "id": "8ef9ab9a0f1757bd",
   "outputs": [
    {
     "name": "stdout",
     "output_type": "stream",
     "text": [
      "Warning: Malformed config line: invalid_line_format\n",
      "Warning: Malformed config line: database=my_db=extra\n",
      "{'username': 'john_doe', 'password': 'secret123', 'host': 'localhost', 'port': '8080'}\n"
     ]
    }
   ],
   "execution_count": 10
  }
 ],
 "metadata": {
  "kernelspec": {
   "display_name": "Python 3",
   "language": "python",
   "name": "python3"
  },
  "language_info": {
   "codemirror_mode": {
    "name": "ipython",
    "version": 2
   },
   "file_extension": ".py",
   "mimetype": "text/x-python",
   "name": "python",
   "nbconvert_exporter": "python",
   "pygments_lexer": "ipython2",
   "version": "2.7.6"
  }
 },
 "nbformat": 4,
 "nbformat_minor": 5
}
